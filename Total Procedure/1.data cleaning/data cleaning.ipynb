{
 "cells": [
  {
   "cell_type": "markdown",
   "metadata": {},
   "source": [
    "# Data cleaning"
   ]
  },
  {
   "cell_type": "code",
   "execution_count": 1,
   "metadata": {},
   "outputs": [],
   "source": [
    "import numpy as np \n",
    "import pandas as pd"
   ]
  },
  {
   "cell_type": "code",
   "execution_count": 2,
   "metadata": {},
   "outputs": [],
   "source": [
    "df = pd.read_csv(r'C:\\Users\\zhaoshuting\\Documents\\研究生\\Module 3\\Machine Learning in Finance\\Fake Job\\fake_job_postings.csv',engine ='python')"
   ]
  },
  {
   "cell_type": "markdown",
   "metadata": {},
   "source": [
    "## 1.Brief unstanding of fake-jobposting dataset"
   ]
  },
  {
   "cell_type": "code",
   "execution_count": 3,
   "metadata": {},
   "outputs": [
    {
     "data": {
      "text/html": [
       "<div>\n",
       "<style scoped>\n",
       "    .dataframe tbody tr th:only-of-type {\n",
       "        vertical-align: middle;\n",
       "    }\n",
       "\n",
       "    .dataframe tbody tr th {\n",
       "        vertical-align: top;\n",
       "    }\n",
       "\n",
       "    .dataframe thead th {\n",
       "        text-align: right;\n",
       "    }\n",
       "</style>\n",
       "<table border=\"1\" class=\"dataframe\">\n",
       "  <thead>\n",
       "    <tr style=\"text-align: right;\">\n",
       "      <th></th>\n",
       "      <th>job_id</th>\n",
       "      <th>title</th>\n",
       "      <th>location</th>\n",
       "      <th>department</th>\n",
       "      <th>salary_range</th>\n",
       "      <th>company_profile</th>\n",
       "      <th>description</th>\n",
       "      <th>requirements</th>\n",
       "      <th>benefits</th>\n",
       "      <th>telecommuting</th>\n",
       "      <th>has_company_logo</th>\n",
       "      <th>has_questions</th>\n",
       "      <th>employment_type</th>\n",
       "      <th>required_experience</th>\n",
       "      <th>required_education</th>\n",
       "      <th>industry</th>\n",
       "      <th>function</th>\n",
       "      <th>fraudulent</th>\n",
       "      <th>Unnamed: 18</th>\n",
       "    </tr>\n",
       "  </thead>\n",
       "  <tbody>\n",
       "    <tr>\n",
       "      <td>0</td>\n",
       "      <td>1</td>\n",
       "      <td>Marketing Intern</td>\n",
       "      <td>US, NY, New York</td>\n",
       "      <td>Marketing</td>\n",
       "      <td>NaN</td>\n",
       "      <td>We're Food52, and we've created a groundbreaki...</td>\n",
       "      <td>Food52, a fast-growing, James Beard Award-winn...</td>\n",
       "      <td>Experience with content management systems a m...</td>\n",
       "      <td>NaN</td>\n",
       "      <td>0</td>\n",
       "      <td>1</td>\n",
       "      <td>0</td>\n",
       "      <td>Other</td>\n",
       "      <td>Internship</td>\n",
       "      <td>NaN</td>\n",
       "      <td>NaN</td>\n",
       "      <td>Marketing</td>\n",
       "      <td>0</td>\n",
       "      <td>NaN</td>\n",
       "    </tr>\n",
       "    <tr>\n",
       "      <td>1</td>\n",
       "      <td>2</td>\n",
       "      <td>Customer Service - Cloud Video Production</td>\n",
       "      <td>NZ, , Auckland</td>\n",
       "      <td>Success</td>\n",
       "      <td>NaN</td>\n",
       "      <td>90 Seconds, the worlds Cloud Video Production ...</td>\n",
       "      <td>Organised - Focused - Vibrant - Awesome!Do you...</td>\n",
       "      <td>What we expect from you:Your key responsibilit...</td>\n",
       "      <td>What you will get from usThrough being part of...</td>\n",
       "      <td>0</td>\n",
       "      <td>1</td>\n",
       "      <td>0</td>\n",
       "      <td>Full-time</td>\n",
       "      <td>Not Applicable</td>\n",
       "      <td>NaN</td>\n",
       "      <td>Marketing and Advertising</td>\n",
       "      <td>Customer Service</td>\n",
       "      <td>0</td>\n",
       "      <td>NaN</td>\n",
       "    </tr>\n",
       "    <tr>\n",
       "      <td>2</td>\n",
       "      <td>3</td>\n",
       "      <td>Commissioning Machinery Assistant (CMA)</td>\n",
       "      <td>US, IA, Wever</td>\n",
       "      <td>NaN</td>\n",
       "      <td>NaN</td>\n",
       "      <td>Valor Services provides Workforce Solutions th...</td>\n",
       "      <td>located in Houston</td>\n",
       "      <td>is actively seeking an experienced Commission...</td>\n",
       "      <td>environmental</td>\n",
       "      <td>and safety regulations.\"</td>\n",
       "      <td>Implement pre-commissioning and commissioning ...</td>\n",
       "      <td>NaN</td>\n",
       "      <td>0</td>\n",
       "      <td>1</td>\n",
       "      <td>0</td>\n",
       "      <td>NaN</td>\n",
       "      <td>NaN</td>\n",
       "      <td>NaN</td>\n",
       "      <td>NaN</td>\n",
       "    </tr>\n",
       "    <tr>\n",
       "      <td>3</td>\n",
       "      <td>4</td>\n",
       "      <td>Account Executive - Washington DC</td>\n",
       "      <td>US, DC, Washington</td>\n",
       "      <td>Sales</td>\n",
       "      <td>NaN</td>\n",
       "      <td>Our passion for improving quality of life thro...</td>\n",
       "      <td>THE COMPANY: ESRI ??Environmental Systems Rese...</td>\n",
       "      <td>EDUCATION:?Bachelor?? or Master?? in GIS, busi...</td>\n",
       "      <td>Our culture is anything but corporate??e have ...</td>\n",
       "      <td>0</td>\n",
       "      <td>1</td>\n",
       "      <td>0</td>\n",
       "      <td>Full-time</td>\n",
       "      <td>Mid-Senior level</td>\n",
       "      <td>Bachelor's Degree</td>\n",
       "      <td>Computer Software</td>\n",
       "      <td>Sales</td>\n",
       "      <td>0</td>\n",
       "      <td>NaN</td>\n",
       "    </tr>\n",
       "    <tr>\n",
       "      <td>4</td>\n",
       "      <td>5</td>\n",
       "      <td>Bill Review Manager</td>\n",
       "      <td>US, FL, Fort Worth</td>\n",
       "      <td>NaN</td>\n",
       "      <td>NaN</td>\n",
       "      <td>SpotSource Solutions LLC is a Global Human Cap...</td>\n",
       "      <td>JOB TITLE: Itemization Review ManagerLOCATION:...</td>\n",
       "      <td>QUALIFICATIONS:RN license in the State of Texa...</td>\n",
       "      <td>Full Benefits Offered</td>\n",
       "      <td>0</td>\n",
       "      <td>1</td>\n",
       "      <td>1</td>\n",
       "      <td>Full-time</td>\n",
       "      <td>Mid-Senior level</td>\n",
       "      <td>Bachelor's Degree</td>\n",
       "      <td>Hospital &amp; Health Care</td>\n",
       "      <td>Health Care Provider</td>\n",
       "      <td>0</td>\n",
       "      <td>NaN</td>\n",
       "    </tr>\n",
       "  </tbody>\n",
       "</table>\n",
       "</div>"
      ],
      "text/plain": [
       "   job_id                                      title            location  \\\n",
       "0       1                           Marketing Intern    US, NY, New York   \n",
       "1       2  Customer Service - Cloud Video Production      NZ, , Auckland   \n",
       "2       3    Commissioning Machinery Assistant (CMA)       US, IA, Wever   \n",
       "3       4          Account Executive - Washington DC  US, DC, Washington   \n",
       "4       5                        Bill Review Manager  US, FL, Fort Worth   \n",
       "\n",
       "  department salary_range                                    company_profile  \\\n",
       "0  Marketing          NaN  We're Food52, and we've created a groundbreaki...   \n",
       "1    Success          NaN  90 Seconds, the worlds Cloud Video Production ...   \n",
       "2        NaN          NaN  Valor Services provides Workforce Solutions th...   \n",
       "3      Sales          NaN  Our passion for improving quality of life thro...   \n",
       "4        NaN          NaN  SpotSource Solutions LLC is a Global Human Cap...   \n",
       "\n",
       "                                         description  \\\n",
       "0  Food52, a fast-growing, James Beard Award-winn...   \n",
       "1  Organised - Focused - Vibrant - Awesome!Do you...   \n",
       "2                                 located in Houston   \n",
       "3  THE COMPANY: ESRI ??Environmental Systems Rese...   \n",
       "4  JOB TITLE: Itemization Review ManagerLOCATION:...   \n",
       "\n",
       "                                        requirements  \\\n",
       "0  Experience with content management systems a m...   \n",
       "1  What we expect from you:Your key responsibilit...   \n",
       "2   is actively seeking an experienced Commission...   \n",
       "3  EDUCATION:?Bachelor?? or Master?? in GIS, busi...   \n",
       "4  QUALIFICATIONS:RN license in the State of Texa...   \n",
       "\n",
       "                                            benefits  \\\n",
       "0                                                NaN   \n",
       "1  What you will get from usThrough being part of...   \n",
       "2                                      environmental   \n",
       "3  Our culture is anything but corporate??e have ...   \n",
       "4                              Full Benefits Offered   \n",
       "\n",
       "               telecommuting  \\\n",
       "0                          0   \n",
       "1                          0   \n",
       "2   and safety regulations.\"   \n",
       "3                          0   \n",
       "4                          0   \n",
       "\n",
       "                                    has_company_logo has_questions  \\\n",
       "0                                                  1             0   \n",
       "1                                                  1             0   \n",
       "2  Implement pre-commissioning and commissioning ...           NaN   \n",
       "3                                                  1             0   \n",
       "4                                                  1             1   \n",
       "\n",
       "  employment_type required_experience required_education  \\\n",
       "0           Other          Internship                NaN   \n",
       "1       Full-time      Not Applicable                NaN   \n",
       "2               0                   1                  0   \n",
       "3       Full-time    Mid-Senior level  Bachelor's Degree   \n",
       "4       Full-time    Mid-Senior level  Bachelor's Degree   \n",
       "\n",
       "                    industry              function fraudulent Unnamed: 18  \n",
       "0                        NaN             Marketing          0         NaN  \n",
       "1  Marketing and Advertising      Customer Service          0         NaN  \n",
       "2                        NaN                   NaN        NaN         NaN  \n",
       "3          Computer Software                 Sales          0         NaN  \n",
       "4     Hospital & Health Care  Health Care Provider          0         NaN  "
      ]
     },
     "execution_count": 3,
     "metadata": {},
     "output_type": "execute_result"
    }
   ],
   "source": [
    "df.head()"
   ]
  },
  {
   "cell_type": "markdown",
   "metadata": {},
   "source": [
    "·job_id: Unique Job ID\n",
    "\n",
    "·title: The title of the job ad entry.Most likely unique for each entry.\n",
    "\n",
    "·location: Geographical location of the job ad：Country, State, City.\n",
    "\n",
    "·department: Corporate department (e.g. sales).Most likely unique for each posting.\n",
    "\n",
    "·salary_range: Indicative salary range (e.g. $50,000-$60,000).From an initial glance of the head, we see its blank; However, in subsequent analysis, we see that it is in format MIN-MAX\n",
    "\n",
    "·company_profile: A brief company description.\n",
    "\n",
    "·description: The details description of the job ad.\n",
    "\n",
    "·requirements: Enlisted requirements for the job opening.\n",
    "\n",
    "·benefits: Enlisted offered benefits by the employer.\n",
    "\n",
    "·telecommuting: True for telecommuting positions.\n",
    "\n",
    "·has_company_logo: True if company logo is present.\n",
    "\n",
    "·has_questions: True if screening questions are present.\n",
    "\n",
    "·employment_type: Full-type, Part-time, Contract, etc.\n",
    "\n",
    "·required_experience: Executive, Entry level, Intern, etc.\n",
    "\n",
    "·required_education: Doctorate, Master’s Degree, Bachelor, etc.\n",
    "\n",
    "·industry: Automotive, IT, Health care, Real estate, etc.\n",
    "\n",
    "·function: Consulting, Engineering, Research, Sales etc.\n",
    "\n",
    "·fraudulent: target - Classification attribute.\n"
   ]
  },
  {
   "cell_type": "markdown",
   "metadata": {},
   "source": [
    "## 2. Delete garbled lines"
   ]
  },
  {
   "cell_type": "code",
   "execution_count": 4,
   "metadata": {
    "scrolled": false
   },
   "outputs": [
    {
     "data": {
      "text/plain": [
       "0                                                                                                                                                                                                                                                                                                                                                     16749\n",
       "1                                                                                                                                                                                                                                                                                                                                                       895\n",
       " comprehensive                                                                                                                                                                                                                                                                                                                                           10\n",
       "Full-time                                                                                                                                                                                                                                                                                                                                                 9\n",
       "Contract                                                                                                                                                                                                                                                                                                                                                  6\n",
       "                                                                                                                                                                                                                                                                                                                                                      ...  \n",
       " stocking tables                                                                                                                                                                                                                                                                                                                                          1\n",
       "Materials-handling experience a must.Forklift operations.Able to lift up to 75 lbs.Ability to climb ladders.Qualifications:High school diploma or equivalent.?Company Overview:Our client is a technological leader of various services in the oil and gas industry. The company values innovation and creativity, and seeks to empower employees.        1\n",
       " and disposal.Provide engineering design on the construction of water pipelines.Develop water demand and consumption profiles based on drilling rig count and completion scheduling.Ensure the short term water supply for drilling rigs                                                                                                                  1\n",
       " heat treating (including PWHT) and other inspection requirements.Manage the quality and consistency of work and test packages.\"                                                                                                                                                                                                                          1\n",
       " building great teams                                                                                                                                                                                                                                                                                                                                     1\n",
       "Name: fraudulent, Length: 92, dtype: int64"
      ]
     },
     "execution_count": 4,
     "metadata": {},
     "output_type": "execute_result"
    }
   ],
   "source": [
    "df.fraudulent.value_counts()"
   ]
  },
  {
   "cell_type": "markdown",
   "metadata": {},
   "source": [
    "We find there are strange values of column 'fraudulent' whose value should be 0 or 1. We decide to delete garbled lines.Because there are not many missing values of 'telecommuting', 'has_company_logo', 'has_questions', 'fraudulent', and the values of rows without misalignment are all 0 or 1, so directly delete the rows that are not 0 or 1."
   ]
  },
  {
   "cell_type": "code",
   "execution_count": 5,
   "metadata": {},
   "outputs": [],
   "source": [
    "df=df[(df.telecommuting=='1')|(df.telecommuting=='0')]\n",
    "df=df[(df.has_company_logo=='1')|(df.has_company_logo=='0')]\n",
    "df=df[(df.has_questions=='1')|(df.has_questions=='0')]\n",
    "df=df[(df.fraudulent=='1')|(df.fraudulent=='0')]"
   ]
  },
  {
   "cell_type": "markdown",
   "metadata": {},
   "source": [
    "## 3.Process features"
   ]
  },
  {
   "cell_type": "code",
   "execution_count": 6,
   "metadata": {},
   "outputs": [
    {
     "data": {
      "text/plain": [
       "job_id                 17563\n",
       "title                  11037\n",
       "location                3065\n",
       "department              1325\n",
       "salary_range             867\n",
       "company_profile         1703\n",
       "description            14527\n",
       "requirements           11713\n",
       "benefits                6111\n",
       "telecommuting              2\n",
       "has_company_logo           2\n",
       "has_questions              2\n",
       "employment_type            5\n",
       "required_experience        7\n",
       "required_education        13\n",
       "industry                 131\n",
       "function                  37\n",
       "fraudulent                 2\n",
       "Unnamed: 18                0\n",
       "dtype: int64"
      ]
     },
     "execution_count": 6,
     "metadata": {},
     "output_type": "execute_result"
    }
   ],
   "source": [
    "df.nunique()"
   ]
  },
  {
   "cell_type": "markdown",
   "metadata": {},
   "source": [
    "·'job_id' is unique for each sample and useless for detecting fake job.\n",
    "\n",
    "·'title' is nearly unique and difficult to deal with.\n",
    "\n",
    "·'location' is also difficult to handle and we want to find the generality of fake jobposting wherever it is.\n",
    "\n",
    "·'department' is just like job title with many different values.\n",
    "\n",
    "·'industry' and 'function' is also difficult to deal with and uselless for finding generality.\n",
    "\n",
    "As a result, we decide to delete these six features."
   ]
  },
  {
   "cell_type": "code",
   "execution_count": 7,
   "metadata": {},
   "outputs": [],
   "source": [
    "drop_columns = ['job_id', 'title', 'location', 'department', 'industry', 'function','Unnamed: 18']\n",
    "\n",
    "df = df.drop(drop_columns, axis=1)"
   ]
  },
  {
   "cell_type": "code",
   "execution_count": 8,
   "metadata": {
    "scrolled": true
   },
   "outputs": [
    {
     "data": {
      "text/plain": [
       "salary_range           14722\n",
       "company_profile         3279\n",
       "description                1\n",
       "requirements            2662\n",
       "benefits                7012\n",
       "telecommuting              0\n",
       "has_company_logo           0\n",
       "has_questions              0\n",
       "employment_type         3393\n",
       "required_experience     6908\n",
       "required_education      7916\n",
       "fraudulent                 0\n",
       "dtype: int64"
      ]
     },
     "execution_count": 8,
     "metadata": {},
     "output_type": "execute_result"
    }
   ],
   "source": [
    "df.isnull().sum()"
   ]
  },
  {
   "cell_type": "code",
   "execution_count": 9,
   "metadata": {},
   "outputs": [
    {
     "data": {
      "text/plain": [
       "salary_range             867\n",
       "company_profile         1703\n",
       "description            14527\n",
       "requirements           11713\n",
       "benefits                6111\n",
       "telecommuting              2\n",
       "has_company_logo           2\n",
       "has_questions              2\n",
       "employment_type            5\n",
       "required_experience        7\n",
       "required_education        13\n",
       "fraudulent                 2\n",
       "dtype: int64"
      ]
     },
     "execution_count": 9,
     "metadata": {},
     "output_type": "execute_result"
    }
   ],
   "source": [
    "df.nunique()"
   ]
  },
  {
   "cell_type": "markdown",
   "metadata": {},
   "source": [
    "We see that the 'employment_type', 'required_experience' and 'required_education' columns have a significant amout of missing values and only have 5, 7 and 13 unique object/categorical values, respectively. As these are manageable amounts, we replace\n",
    "any missing values with a new object/category value of Unknown."
   ]
  },
  {
   "cell_type": "code",
   "execution_count": 10,
   "metadata": {},
   "outputs": [],
   "source": [
    "cat_columns = ['employment_type', 'required_experience', 'required_education']\n",
    "\n",
    "for col in cat_columns:\n",
    "    df[col].fillna(\"Unknown\", inplace=True)"
   ]
  },
  {
   "cell_type": "markdown",
   "metadata": {},
   "source": [
    "There are also missing values of text feature 'company_profile', 'description', 'requirements', 'benefits'. We decide to use ' ' to fill missing values. And if all these features are missing, we delete this sample."
   ]
  },
  {
   "cell_type": "code",
   "execution_count": 11,
   "metadata": {},
   "outputs": [],
   "source": [
    "text_columns = ['company_profile', 'description', 'requirements', 'benefits']\n",
    "\n",
    "df = df.dropna(subset=text_columns, how='all')\n",
    "\n",
    "for col in text_columns:\n",
    "    df[col].fillna(' ', inplace=True)"
   ]
  },
  {
   "cell_type": "markdown",
   "metadata": {},
   "source": [
    "salary interval is divided into minimum and maximum salary"
   ]
  },
  {
   "cell_type": "code",
   "execution_count": 12,
   "metadata": {},
   "outputs": [],
   "source": [
    "new = df['salary_range'].str.split(\"-\", n = 1, expand = True) \n",
    "\n",
    "df['salary_range_min']= new[0]\n",
    "df['salary_range_max']= new[1]\n",
    "\n",
    "df['salary_range_min'].fillna('-1', inplace=True)\n",
    "df['salary_range_max'].fillna('-1', inplace=True)\n",
    "\n",
    "def remove_string(x):\n",
    "    if not x.isnumeric(): \n",
    "        val = '-1'\n",
    "    else:\n",
    "        val = x\n",
    "    return val\n",
    "\n",
    "df['salary_range_min'] = df['salary_range_min'].apply(lambda x: remove_string(x))\n",
    "df['salary_range_max'] = df['salary_range_max'].apply(lambda x: remove_string(x))\n",
    "df.drop('salary_range', axis=1, inplace = True)"
   ]
  },
  {
   "cell_type": "code",
   "execution_count": 13,
   "metadata": {},
   "outputs": [
    {
     "data": {
      "text/html": [
       "<div>\n",
       "<style scoped>\n",
       "    .dataframe tbody tr th:only-of-type {\n",
       "        vertical-align: middle;\n",
       "    }\n",
       "\n",
       "    .dataframe tbody tr th {\n",
       "        vertical-align: top;\n",
       "    }\n",
       "\n",
       "    .dataframe thead th {\n",
       "        text-align: right;\n",
       "    }\n",
       "</style>\n",
       "<table border=\"1\" class=\"dataframe\">\n",
       "  <thead>\n",
       "    <tr style=\"text-align: right;\">\n",
       "      <th></th>\n",
       "      <th>company_profile</th>\n",
       "      <th>description</th>\n",
       "      <th>requirements</th>\n",
       "      <th>benefits</th>\n",
       "      <th>telecommuting</th>\n",
       "      <th>has_company_logo</th>\n",
       "      <th>has_questions</th>\n",
       "      <th>employment_type</th>\n",
       "      <th>required_experience</th>\n",
       "      <th>required_education</th>\n",
       "      <th>fraudulent</th>\n",
       "      <th>salary_range_min</th>\n",
       "      <th>salary_range_max</th>\n",
       "    </tr>\n",
       "  </thead>\n",
       "  <tbody>\n",
       "    <tr>\n",
       "      <td>0</td>\n",
       "      <td>We're Food52, and we've created a groundbreaki...</td>\n",
       "      <td>Food52, a fast-growing, James Beard Award-winn...</td>\n",
       "      <td>Experience with content management systems a m...</td>\n",
       "      <td></td>\n",
       "      <td>0</td>\n",
       "      <td>1</td>\n",
       "      <td>0</td>\n",
       "      <td>Other</td>\n",
       "      <td>Internship</td>\n",
       "      <td>Unknown</td>\n",
       "      <td>0</td>\n",
       "      <td>-1</td>\n",
       "      <td>-1</td>\n",
       "    </tr>\n",
       "    <tr>\n",
       "      <td>1</td>\n",
       "      <td>90 Seconds, the worlds Cloud Video Production ...</td>\n",
       "      <td>Organised - Focused - Vibrant - Awesome!Do you...</td>\n",
       "      <td>What we expect from you:Your key responsibilit...</td>\n",
       "      <td>What you will get from usThrough being part of...</td>\n",
       "      <td>0</td>\n",
       "      <td>1</td>\n",
       "      <td>0</td>\n",
       "      <td>Full-time</td>\n",
       "      <td>Not Applicable</td>\n",
       "      <td>Unknown</td>\n",
       "      <td>0</td>\n",
       "      <td>-1</td>\n",
       "      <td>-1</td>\n",
       "    </tr>\n",
       "    <tr>\n",
       "      <td>3</td>\n",
       "      <td>Our passion for improving quality of life thro...</td>\n",
       "      <td>THE COMPANY: ESRI ??Environmental Systems Rese...</td>\n",
       "      <td>EDUCATION:?Bachelor?? or Master?? in GIS, busi...</td>\n",
       "      <td>Our culture is anything but corporate??e have ...</td>\n",
       "      <td>0</td>\n",
       "      <td>1</td>\n",
       "      <td>0</td>\n",
       "      <td>Full-time</td>\n",
       "      <td>Mid-Senior level</td>\n",
       "      <td>Bachelor's Degree</td>\n",
       "      <td>0</td>\n",
       "      <td>-1</td>\n",
       "      <td>-1</td>\n",
       "    </tr>\n",
       "    <tr>\n",
       "      <td>4</td>\n",
       "      <td>SpotSource Solutions LLC is a Global Human Cap...</td>\n",
       "      <td>JOB TITLE: Itemization Review ManagerLOCATION:...</td>\n",
       "      <td>QUALIFICATIONS:RN license in the State of Texa...</td>\n",
       "      <td>Full Benefits Offered</td>\n",
       "      <td>0</td>\n",
       "      <td>1</td>\n",
       "      <td>1</td>\n",
       "      <td>Full-time</td>\n",
       "      <td>Mid-Senior level</td>\n",
       "      <td>Bachelor's Degree</td>\n",
       "      <td>0</td>\n",
       "      <td>-1</td>\n",
       "      <td>-1</td>\n",
       "    </tr>\n",
       "    <tr>\n",
       "      <td>5</td>\n",
       "      <td></td>\n",
       "      <td>Job OverviewApex is an environmental consultin...</td>\n",
       "      <td></td>\n",
       "      <td></td>\n",
       "      <td>0</td>\n",
       "      <td>0</td>\n",
       "      <td>0</td>\n",
       "      <td>Unknown</td>\n",
       "      <td>Unknown</td>\n",
       "      <td>Unknown</td>\n",
       "      <td>0</td>\n",
       "      <td>-1</td>\n",
       "      <td>-1</td>\n",
       "    </tr>\n",
       "  </tbody>\n",
       "</table>\n",
       "</div>"
      ],
      "text/plain": [
       "                                     company_profile  \\\n",
       "0  We're Food52, and we've created a groundbreaki...   \n",
       "1  90 Seconds, the worlds Cloud Video Production ...   \n",
       "3  Our passion for improving quality of life thro...   \n",
       "4  SpotSource Solutions LLC is a Global Human Cap...   \n",
       "5                                                      \n",
       "\n",
       "                                         description  \\\n",
       "0  Food52, a fast-growing, James Beard Award-winn...   \n",
       "1  Organised - Focused - Vibrant - Awesome!Do you...   \n",
       "3  THE COMPANY: ESRI ??Environmental Systems Rese...   \n",
       "4  JOB TITLE: Itemization Review ManagerLOCATION:...   \n",
       "5  Job OverviewApex is an environmental consultin...   \n",
       "\n",
       "                                        requirements  \\\n",
       "0  Experience with content management systems a m...   \n",
       "1  What we expect from you:Your key responsibilit...   \n",
       "3  EDUCATION:?Bachelor?? or Master?? in GIS, busi...   \n",
       "4  QUALIFICATIONS:RN license in the State of Texa...   \n",
       "5                                                      \n",
       "\n",
       "                                            benefits telecommuting  \\\n",
       "0                                                                0   \n",
       "1  What you will get from usThrough being part of...             0   \n",
       "3  Our culture is anything but corporate??e have ...             0   \n",
       "4                              Full Benefits Offered             0   \n",
       "5                                                                0   \n",
       "\n",
       "  has_company_logo has_questions employment_type required_experience  \\\n",
       "0                1             0           Other          Internship   \n",
       "1                1             0       Full-time      Not Applicable   \n",
       "3                1             0       Full-time    Mid-Senior level   \n",
       "4                1             1       Full-time    Mid-Senior level   \n",
       "5                0             0         Unknown             Unknown   \n",
       "\n",
       "  required_education fraudulent salary_range_min salary_range_max  \n",
       "0            Unknown          0               -1               -1  \n",
       "1            Unknown          0               -1               -1  \n",
       "3  Bachelor's Degree          0               -1               -1  \n",
       "4  Bachelor's Degree          0               -1               -1  \n",
       "5            Unknown          0               -1               -1  "
      ]
     },
     "execution_count": 13,
     "metadata": {},
     "output_type": "execute_result"
    }
   ],
   "source": [
    "df.head()"
   ]
  },
  {
   "cell_type": "markdown",
   "metadata": {},
   "source": [
    "Move 'fraudulent' to the last column."
   ]
  },
  {
   "cell_type": "code",
   "execution_count": 14,
   "metadata": {},
   "outputs": [],
   "source": [
    "fraudulent=df.pop('fraudulent')\n",
    "df.insert(12,'fraudulent',fraudulent)"
   ]
  },
  {
   "cell_type": "markdown",
   "metadata": {},
   "source": [
    "Convert numeric variable format from str to numeric"
   ]
  },
  {
   "cell_type": "code",
   "execution_count": 15,
   "metadata": {},
   "outputs": [],
   "source": [
    "df.fraudulent=pd.to_numeric(df.fraudulent)\n",
    "df.telecommuting=pd.to_numeric(df.telecommuting)\n",
    "df.has_company_logo=pd.to_numeric(df.has_company_logo)\n",
    "df.has_questions=pd.to_numeric(df.has_questions)\n",
    "df.salary_range_min=pd.to_numeric(df.salary_range_min)\n",
    "df.salary_range_max=pd.to_numeric(df.salary_range_max)"
   ]
  },
  {
   "cell_type": "code",
   "execution_count": 16,
   "metadata": {},
   "outputs": [],
   "source": [
    "outputpath=r'C:\\Users\\zhaoshuting\\Documents\\研究生\\Module 3\\Machine Learning in Finance\\Fake Job\\data cleaning\\data for EDA.csv'\n",
    "df.to_csv(outputpath,sep=',',index=False,header=True)"
   ]
  },
  {
   "cell_type": "code",
   "execution_count": null,
   "metadata": {},
   "outputs": [],
   "source": []
  }
 ],
 "metadata": {
  "kernelspec": {
   "display_name": "Python 3",
   "language": "python",
   "name": "python3"
  },
  "language_info": {
   "codemirror_mode": {
    "name": "ipython",
    "version": 3
   },
   "file_extension": ".py",
   "mimetype": "text/x-python",
   "name": "python",
   "nbconvert_exporter": "python",
   "pygments_lexer": "ipython3",
   "version": "3.7.4"
  }
 },
 "nbformat": 4,
 "nbformat_minor": 2
}
